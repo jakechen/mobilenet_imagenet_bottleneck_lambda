{
 "cells": [
  {
   "cell_type": "code",
   "execution_count": null,
   "metadata": {},
   "outputs": [],
   "source": [
    "import boto3\n",
    "import numpy as np\n",
    "import mxnet as mx\n",
    "from mxnet.gluon.model_zoo import vision\n",
    "#from matplotlib import pyplot as plt\n",
    "#%matplotlib inline\n",
    "\n",
    "s3 = boto3.client('s3')\n",
    "\n",
    "s3.download_file('jakechenawstemp',\n",
    "                 'dog.0.jpg',\n",
    "                 './dog.0.jpg')"
   ]
  },
  {
   "cell_type": "code",
   "execution_count": null,
   "metadata": {},
   "outputs": [],
   "source": [
    "model = vision.get_model(name='mobilenet1.0', pretrained=True)"
   ]
  },
  {
   "cell_type": "code",
   "execution_count": null,
   "metadata": {},
   "outputs": [],
   "source": [
    "with open(\"./dog.0.jpg\", 'rb') as fp:\n",
    "    str_image = fp.read()\n",
    "\n",
    "image = mx.image.imdecode(str_image)\n",
    "\n",
    "image = image.astype('float32')/255\n",
    "\n",
    "image = mx.image.color_normalize(image,\n",
    "                                 mean=mx.nd.array([0.485, 0.456, 0.406]),\n",
    "                                 std=mx.nd.array([0.229, 0.224, 0.225]))\n",
    "\n",
    "image = image.reshape([1, -1, image.shape[0], image.shape[1]])"
   ]
  },
  {
   "cell_type": "code",
   "execution_count": null,
   "metadata": {},
   "outputs": [],
   "source": [
    "features = model.features(image)"
   ]
  },
  {
   "cell_type": "code",
   "execution_count": 60,
   "metadata": {},
   "outputs": [],
   "source": [
    "# save features to /tmp/[s3_key].npy\n",
    "np.save(open(\"./dog.0.jpg.npy\", 'wb'), features.asnumpy())"
   ]
  },
  {
   "cell_type": "code",
   "execution_count": null,
   "metadata": {},
   "outputs": [],
   "source": []
  }
 ],
 "metadata": {
  "kernelspec": {
   "display_name": "conda_mxnet_p36",
   "language": "python",
   "name": "conda_mxnet_p36"
  },
  "language_info": {
   "codemirror_mode": {
    "name": "ipython",
    "version": 3
   },
   "file_extension": ".py",
   "mimetype": "text/x-python",
   "name": "python",
   "nbconvert_exporter": "python",
   "pygments_lexer": "ipython3",
   "version": "3.6.4"
  }
 },
 "nbformat": 4,
 "nbformat_minor": 2
}
